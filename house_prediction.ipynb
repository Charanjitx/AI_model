import pandas as pd
df = pd.read_excel('house_price.xlsx')
X = df['area']


print(x[:10])
X_reshape = X.values.reshape(-1,1)
print(X_reshape[:10])

y = df['price']

import sklearn
from sklearn.model_selection import train_test_split
X_train,X_test,Y_train,Y_test = train_test_split(X_reshape,y,test_size=0.3)
print(len(X_train),len(Y_train))
print(len(X_test),len(Y_test))



from sklearn import linear_model
slr = linear_model.LinearRegression() 

slr.fit(X_train,Y_train)
print('beta',slr.coef_)
print('alpha',slr.intercept_)

from sklearn.metrics import mean_squared_error,r2_score

Y_predict = slr.predict(X_test)
mean_squared_error = mean_squared_error(Y_test,Y_predict)
r2_score = r2_score(Y_test,Y_predict)
print(mean_squared_error)
print(r2_score)

import matplotlib.pyplot as plt
%matplotlib inline 

plt.scatter(X_test,Y_test, color='orange')
plt.plot(X_test,Y_predict,color='cyan', linewidth=3)

plt.xlabel('area')
plt.ylabel('price')
 

plt.show()
